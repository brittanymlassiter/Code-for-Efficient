{
 "cells": [
  {
   "cell_type": "markdown",
   "id": "beda4198-8149-4cb0-91f8-c18c0ace6632",
   "metadata": {},
   "source": [
    "# Yelp Extraction "
   ]
  },
  {
   "cell_type": "markdown",
   "id": "1212cc67-f4ee-4a93-8b03-30d988c65fac",
   "metadata": {},
   "source": [
    "## Imports"
   ]
  },
  {
   "cell_type": "code",
   "execution_count": 1,
   "id": "c3084b1b-344f-4028-a16f-7e1bd6bde493",
   "metadata": {},
   "outputs": [],
   "source": [
    "# Standard Imports\n",
    "import numpy as np\n",
    "import pandas as pd\n",
    "import matplotlib.pyplot as plt\n",
    "import seaborn as sns\n",
    "\n",
    "# Additional Imports\n",
    "# os - for saving and loading files\n",
    "# json - to work with json files\n",
    "# math - to round up results\n",
    "# time - to add a short pause to not overwhelm the server\n",
    "import os, json, math, time\n",
    "\n",
    "# to make yelpapi calls\n",
    "from yelpapi import YelpAPI\n",
    "\n",
    "# progress bar from tqdm_notebook\n",
    "from tqdm.notebook import tqdm_notebook"
   ]
  },
  {
   "cell_type": "code",
   "execution_count": 2,
   "id": "d9fee1d2-d424-4587-956a-1e8f2a65d561",
   "metadata": {},
   "outputs": [
    {
     "name": "stdout",
     "output_type": "stream",
     "text": [
      "Requirement already satisfied: yelpapi in c:\\users\\blass\\anaconda3\\envs\\dojo-env\\lib\\site-packages (2.5.1)\n",
      "Requirement already satisfied: requests in c:\\users\\blass\\anaconda3\\envs\\dojo-env\\lib\\site-packages (from yelpapi) (2.29.0)\n",
      "Requirement already satisfied: charset-normalizer<4,>=2 in c:\\users\\blass\\anaconda3\\envs\\dojo-env\\lib\\site-packages (from requests->yelpapi) (2.0.4)\n",
      "Requirement already satisfied: idna<4,>=2.5 in c:\\users\\blass\\anaconda3\\envs\\dojo-env\\lib\\site-packages (from requests->yelpapi) (3.4)\n",
      "Requirement already satisfied: urllib3<1.27,>=1.21.1 in c:\\users\\blass\\anaconda3\\envs\\dojo-env\\lib\\site-packages (from requests->yelpapi) (1.26.15)\n",
      "Requirement already satisfied: certifi>=2017.4.17 in c:\\users\\blass\\anaconda3\\envs\\dojo-env\\lib\\site-packages (from requests->yelpapi) (2023.5.7)\n",
      "Requirement already satisfied: tqdm in c:\\users\\blass\\anaconda3\\envs\\dojo-env\\lib\\site-packages (4.65.0)\n",
      "Requirement already satisfied: colorama in c:\\users\\blass\\anaconda3\\envs\\dojo-env\\lib\\site-packages (from tqdm) (0.4.6)\n"
     ]
    }
   ],
   "source": [
    "!pip install yelpapi\n",
    "!pip install tqdm"
   ]
  },
  {
   "cell_type": "markdown",
   "id": "035c2180-6c1c-4ab3-9de2-3873976214f9",
   "metadata": {},
   "source": [
    "## Loading credentials "
   ]
  },
  {
   "cell_type": "code",
   "execution_count": 3,
   "id": "de5e6817-0eee-47f5-b952-29827f48d178",
   "metadata": {},
   "outputs": [
    {
     "data": {
      "text/plain": [
       "dict_keys(['client-id', 'api-key'])"
      ]
     },
     "execution_count": 3,
     "metadata": {},
     "output_type": "execute_result"
    }
   ],
   "source": [
    "import json\n",
    "with open('/Users/blass/.secret/yelp_api.json') as f: #change the path to match YOUR path!!\n",
    "    login = json.load(f)\n",
    "login.keys()"
   ]
  },
  {
   "cell_type": "code",
   "execution_count": 5,
   "id": "eb5a3549-a748-4863-ad6a-7b0f2ee84f29",
   "metadata": {},
   "outputs": [],
   "source": [
    "# Instantiate YelpAPI Variable\n",
    "yelp = YelpAPI(login['api-key'], timeout_s = 5.0)"
   ]
  },
  {
   "cell_type": "markdown",
   "id": "06481fa9-eef5-40fc-9d07-bae167dc901f",
   "metadata": {},
   "source": [
    "## Define Search"
   ]
  },
  {
   "cell_type": "code",
   "execution_count": 6,
   "id": "0aa4eb94-96f9-4f74-8d5d-c1c77999ab4d",
   "metadata": {},
   "outputs": [],
   "source": [
    "# set our API call parameters and filename before the first call\n",
    "location = 'Chicago, IL 60064'\n",
    "term = 'seafood'"
   ]
  },
  {
   "cell_type": "code",
   "execution_count": 7,
   "id": "415c2e01-e0da-4915-a1ce-f2bff9c07a5c",
   "metadata": {},
   "outputs": [
    {
     "data": {
      "text/plain": [
       "'Chicago'"
      ]
     },
     "execution_count": 7,
     "metadata": {},
     "output_type": "execute_result"
    }
   ],
   "source": [
    "location.split(',')[0]"
   ]
  },
  {
   "cell_type": "code",
   "execution_count": 8,
   "id": "4b7ea22d-b816-4df3-83cb-24cdae2c66b1",
   "metadata": {},
   "outputs": [],
   "source": [
    "## Specify folder for saving data\n",
    "FOLDER = 'Data/'\n",
    "\n",
    "os.makedirs(FOLDER, exist_ok = True)\n",
    "# Specifying JSON_FILE filename (can include a folder)\n",
    "JSON_FILE = FOLDER+f\"{location.split(',')[0]}-{term}.json\""
   ]
  },
  {
   "cell_type": "code",
   "execution_count": 9,
   "id": "5ed986eb-194d-4efc-a730-56110e1ae9e3",
   "metadata": {},
   "outputs": [
    {
     "data": {
      "text/plain": [
       "'Data/Chicago-seafood.json'"
      ]
     },
     "execution_count": 9,
     "metadata": {},
     "output_type": "execute_result"
    }
   ],
   "source": [
    "JSON_FILE"
   ]
  },
  {
   "cell_type": "markdown",
   "id": "4c694c0e-a0a1-4075-a91b-50620e41aa35",
   "metadata": {},
   "source": [
    "## Check if JSON file exist or Create if it does not"
   ]
  },
  {
   "cell_type": "code",
   "execution_count": 10,
   "id": "03440178-b0d2-493d-a0b8-d9d3c424f569",
   "metadata": {},
   "outputs": [
    {
     "name": "stdout",
     "output_type": "stream",
     "text": [
      "[i] Data/Chicago-seafood.json not found. Saving empty list to file.\n"
     ]
    }
   ],
   "source": [
    "## Check if JSON_FILE exists\n",
    "file_exists = os.path.isfile(JSON_FILE)\n",
    "\n",
    "## If it does not exist: \n",
    "if file_exists == False:    \n",
    "    ## CREATE ANY NEEDED FOLDERS\n",
    "    # Get the Folder Name only\n",
    "    folder = os.path.dirname(JSON_FILE)\n",
    "    \n",
    "    ## If JSON folder name is not empty:\n",
    "    if len(folder)>0:\n",
    "        # create the folder\n",
    "        os.makedirs(folder, exist_ok = True)\n",
    "        \n",
    "        \n",
    "    ## INFORM USER AND SAVE EMPTY LIST\n",
    "    print(f\"[i] {JSON_FILE} not found. Saving empty list to file.\")\n",
    "\n",
    "    \n",
    "    ## save the first page of results\n",
    "    with open(JSON_FILE, 'w') as f:\n",
    "          json.dump([], f)\n",
    "        \n",
    "## If it exists, inform user\n",
    "else:\n",
    "    print(f\"[i] {JSON_FILE} already exists.\")"
   ]
  },
  {
   "cell_type": "code",
   "execution_count": 11,
   "id": "8464f1b6-1a16-4e24-b374-a5bf218b9713",
   "metadata": {},
   "outputs": [
    {
     "data": {
      "text/plain": [
       "True"
      ]
     },
     "execution_count": 11,
     "metadata": {},
     "output_type": "execute_result"
    }
   ],
   "source": [
    "os.path.isfile(JSON_FILE)\n"
   ]
  },
  {
   "cell_type": "markdown",
   "id": "059ade3b-1044-48d7-b40f-d3e101bbd18b",
   "metadata": {},
   "source": [
    "## Load JSON FIle and account for results already in filea"
   ]
  },
  {
   "cell_type": "code",
   "execution_count": 12,
   "id": "afa317b2-f62a-4989-b5d2-856b2ea8c51b",
   "metadata": {},
   "outputs": [],
   "source": [
    "# use our yelp_api variable's search_query method to perform our API call\n",
    "results = yelp.search_query(term = term, location = location)"
   ]
  },
  {
   "cell_type": "code",
   "execution_count": 13,
   "id": "1a13aa74-3eb0-45fa-8a49-e8c5b7ad996b",
   "metadata": {},
   "outputs": [
    {
     "data": {
      "text/plain": [
       "dict"
      ]
     },
     "execution_count": 13,
     "metadata": {},
     "output_type": "execute_result"
    }
   ],
   "source": [
    "type(results)"
   ]
  },
  {
   "cell_type": "code",
   "execution_count": 14,
   "id": "2f67fa4a-ad03-483f-b927-38d3200eaef1",
   "metadata": {},
   "outputs": [
    {
     "data": {
      "text/plain": [
       "3"
      ]
     },
     "execution_count": 14,
     "metadata": {},
     "output_type": "execute_result"
    }
   ],
   "source": [
    "len(results)"
   ]
  },
  {
   "cell_type": "code",
   "execution_count": 15,
   "id": "f6818e5f-1e12-4217-a8dd-9a85aaf4d3b7",
   "metadata": {},
   "outputs": [
    {
     "data": {
      "text/plain": [
       "dict_keys(['businesses', 'total', 'region'])"
      ]
     },
     "execution_count": 15,
     "metadata": {},
     "output_type": "execute_result"
    }
   ],
   "source": [
    "results.keys()"
   ]
  },
  {
   "cell_type": "code",
   "execution_count": 16,
   "id": "eddeb03b-f6da-48fd-b51a-f43b7d67d1ea",
   "metadata": {},
   "outputs": [
    {
     "data": {
      "text/plain": [
       "11"
      ]
     },
     "execution_count": 16,
     "metadata": {},
     "output_type": "execute_result"
    }
   ],
   "source": [
    "results['total']"
   ]
  },
  {
   "cell_type": "code",
   "execution_count": 17,
   "id": "28f182d6-39e3-4fba-9a01-0ca74c801ec4",
   "metadata": {},
   "outputs": [
    {
     "data": {
      "text/plain": [
       "{'center': {'longitude': -87.8602409362793, 'latitude': 42.31742885246409}}"
      ]
     },
     "execution_count": 17,
     "metadata": {},
     "output_type": "execute_result"
    }
   ],
   "source": [
    "results['region']"
   ]
  },
  {
   "cell_type": "code",
   "execution_count": 18,
   "id": "4bd729cc-50d7-4c0c-ab86-4bc78cf6ecf3",
   "metadata": {},
   "outputs": [
    {
     "data": {
      "text/plain": [
       "[{'id': 'uqCP-Z9dLEaIVLjRZ4kb7A',\n",
       "  'alias': 'ostioneria-briza-azul-waukegan',\n",
       "  'name': 'Ostioneria Briza Azul',\n",
       "  'image_url': 'https://s3-media3.fl.yelpcdn.com/bphoto/djekuseCBcPX78ENNnay8g/o.jpg',\n",
       "  'is_closed': False,\n",
       "  'url': 'https://www.yelp.com/biz/ostioneria-briza-azul-waukegan?adjust_creative=UxOuRlH9oN_SMuVG_RiNhA&utm_campaign=yelp_api_v3&utm_medium=api_v3_business_search&utm_source=UxOuRlH9oN_SMuVG_RiNhA',\n",
       "  'review_count': 28,\n",
       "  'categories': [{'alias': 'seafood', 'title': 'Seafood'}],\n",
       "  'rating': 3.5,\n",
       "  'coordinates': {'latitude': 42.350855, 'longitude': -87.852107},\n",
       "  'transactions': ['delivery', 'pickup'],\n",
       "  'price': '$$',\n",
       "  'location': {'address1': '1611 Belvidere Rd',\n",
       "   'address2': '',\n",
       "   'address3': '',\n",
       "   'city': 'Waukegan',\n",
       "   'zip_code': '60085',\n",
       "   'country': 'US',\n",
       "   'state': 'IL',\n",
       "   'display_address': ['1611 Belvidere Rd', 'Waukegan, IL 60085']},\n",
       "  'phone': '+18472445944',\n",
       "  'display_phone': '(847) 244-5944',\n",
       "  'distance': 3776.47034182254},\n",
       " {'id': '5kXCJ5OEutdr7kfeLmgBSQ',\n",
       "  'alias': 'eleven19-kitchen-and-cocktails-north-chicago',\n",
       "  'name': 'Eleven19 Kitchen & Cocktails',\n",
       "  'image_url': 'https://s3-media3.fl.yelpcdn.com/bphoto/hIoYnxEM3k5OF9t_WIDy8g/o.jpg',\n",
       "  'is_closed': False,\n",
       "  'url': 'https://www.yelp.com/biz/eleven19-kitchen-and-cocktails-north-chicago?adjust_creative=UxOuRlH9oN_SMuVG_RiNhA&utm_campaign=yelp_api_v3&utm_medium=api_v3_business_search&utm_source=UxOuRlH9oN_SMuVG_RiNhA',\n",
       "  'review_count': 6,\n",
       "  'categories': [{'alias': 'seafood', 'title': 'Seafood'},\n",
       "   {'alias': 'burgers', 'title': 'Burgers'},\n",
       "   {'alias': 'cocktailbars', 'title': 'Cocktail Bars'}],\n",
       "  'rating': 4.0,\n",
       "  'coordinates': {'latitude': 42.341193853587214, 'longitude': -87.8459586},\n",
       "  'transactions': ['delivery', 'pickup'],\n",
       "  'location': {'address1': '1119 10TH ST',\n",
       "   'address2': None,\n",
       "   'address3': None,\n",
       "   'city': 'North Chicago',\n",
       "   'zip_code': '60064',\n",
       "   'country': 'US',\n",
       "   'state': 'IL',\n",
       "   'display_address': ['1119 10TH ST', 'North Chicago, IL 60064']},\n",
       "  'phone': '+18476724265',\n",
       "  'display_phone': '(847) 672-4265',\n",
       "  'distance': 2891.6257007636914},\n",
       " {'id': 'SBW7e8uLIOLCp3Fq9RCcRQ',\n",
       "  'alias': 'da-local-boy-waukegan',\n",
       "  'name': 'Da Local Boy',\n",
       "  'image_url': 'https://s3-media3.fl.yelpcdn.com/bphoto/xf-uyNumPVPpHXE2RjP2jQ/o.jpg',\n",
       "  'is_closed': False,\n",
       "  'url': 'https://www.yelp.com/biz/da-local-boy-waukegan?adjust_creative=UxOuRlH9oN_SMuVG_RiNhA&utm_campaign=yelp_api_v3&utm_medium=api_v3_business_search&utm_source=UxOuRlH9oN_SMuVG_RiNhA',\n",
       "  'review_count': 18,\n",
       "  'categories': [{'alias': 'foodtrucks', 'title': 'Food Trucks'},\n",
       "   {'alias': 'salad', 'title': 'Salad'},\n",
       "   {'alias': 'hawaiian', 'title': 'Hawaiian'}],\n",
       "  'rating': 5.0,\n",
       "  'coordinates': {'latitude': 42.353329559078,\n",
       "   'longitude': -87.86821866139391},\n",
       "  'transactions': [],\n",
       "  'location': {'address1': None,\n",
       "   'address2': None,\n",
       "   'address3': None,\n",
       "   'city': 'Waukegan',\n",
       "   'zip_code': '60085',\n",
       "   'country': 'US',\n",
       "   'state': 'IL',\n",
       "   'display_address': ['Waukegan, IL 60085']},\n",
       "  'phone': '+18083593614',\n",
       "  'display_phone': '(808) 359-3614',\n",
       "  'distance': 4045.4716820718577},\n",
       " {'id': 'dz5MxYb75uD4-EBzA0VS2Q',\n",
       "  'alias': 'maevery-public-house-lake-bluff',\n",
       "  'name': 'Maevery Public House',\n",
       "  'image_url': 'https://s3-media3.fl.yelpcdn.com/bphoto/CSluKkBoelXku45_Zqom4w/o.jpg',\n",
       "  'is_closed': False,\n",
       "  'url': 'https://www.yelp.com/biz/maevery-public-house-lake-bluff?adjust_creative=UxOuRlH9oN_SMuVG_RiNhA&utm_campaign=yelp_api_v3&utm_medium=api_v3_business_search&utm_source=UxOuRlH9oN_SMuVG_RiNhA',\n",
       "  'review_count': 235,\n",
       "  'categories': [{'alias': 'cocktailbars', 'title': 'Cocktail Bars'},\n",
       "   {'alias': 'newamerican', 'title': 'American (New)'},\n",
       "   {'alias': 'gastropubs', 'title': 'Gastropubs'}],\n",
       "  'rating': 4.0,\n",
       "  'coordinates': {'latitude': 42.279872, 'longitude': -87.8451719},\n",
       "  'transactions': ['delivery'],\n",
       "  'price': '$$',\n",
       "  'location': {'address1': '20 E Scranton Ave',\n",
       "   'address2': '',\n",
       "   'address3': '',\n",
       "   'city': 'Lake Bluff',\n",
       "   'zip_code': '60044',\n",
       "   'country': 'US',\n",
       "   'state': 'IL',\n",
       "   'display_address': ['20 E Scranton Ave', 'Lake Bluff, IL 60044']},\n",
       "  'phone': '+18476043952',\n",
       "  'display_phone': '(847) 604-3952',\n",
       "  'distance': 4356.148158100159},\n",
       " {'id': '8hwBKiiP-u3yOKkA2Gk7dQ',\n",
       "  'alias': 'taqueria-toluca-waukegan',\n",
       "  'name': 'Taqueria Toluca',\n",
       "  'image_url': 'https://s3-media2.fl.yelpcdn.com/bphoto/8y50JEwbgqzfdSmGVdk_nQ/o.jpg',\n",
       "  'is_closed': False,\n",
       "  'url': 'https://www.yelp.com/biz/taqueria-toluca-waukegan?adjust_creative=UxOuRlH9oN_SMuVG_RiNhA&utm_campaign=yelp_api_v3&utm_medium=api_v3_business_search&utm_source=UxOuRlH9oN_SMuVG_RiNhA',\n",
       "  'review_count': 59,\n",
       "  'categories': [{'alias': 'mexican', 'title': 'Mexican'}],\n",
       "  'rating': 4.5,\n",
       "  'coordinates': {'latitude': 42.3414349, 'longitude': -87.8416976},\n",
       "  'transactions': ['delivery', 'pickup'],\n",
       "  'price': '$',\n",
       "  'location': {'address1': '822 10th St',\n",
       "   'address2': '',\n",
       "   'address3': '',\n",
       "   'city': 'Waukegan',\n",
       "   'zip_code': '60085',\n",
       "   'country': 'US',\n",
       "   'state': 'IL',\n",
       "   'display_address': ['822 10th St', 'Waukegan, IL 60085']},\n",
       "  'phone': '+18472447851',\n",
       "  'display_phone': '(847) 244-7851',\n",
       "  'distance': 3081.8120623385485},\n",
       " {'id': 'rVEI0ZlhOSPvnETtvW49mw',\n",
       "  'alias': 'los-altos-mexican-restaurant-north-chicago',\n",
       "  'name': 'Los Altos Mexican Restaurant',\n",
       "  'image_url': 'https://s3-media1.fl.yelpcdn.com/bphoto/sBuvI9CZHNxUFIzeHSwhrA/o.jpg',\n",
       "  'is_closed': False,\n",
       "  'url': 'https://www.yelp.com/biz/los-altos-mexican-restaurant-north-chicago?adjust_creative=UxOuRlH9oN_SMuVG_RiNhA&utm_campaign=yelp_api_v3&utm_medium=api_v3_business_search&utm_source=UxOuRlH9oN_SMuVG_RiNhA',\n",
       "  'review_count': 7,\n",
       "  'categories': [{'alias': 'mexican', 'title': 'Mexican'}],\n",
       "  'rating': 3.0,\n",
       "  'coordinates': {'latitude': 42.31968959112019,\n",
       "   'longitude': -87.86253959999999},\n",
       "  'transactions': ['delivery', 'pickup'],\n",
       "  'location': {'address1': '2500 Martin Luther King Jr Dr',\n",
       "   'address2': None,\n",
       "   'address3': '',\n",
       "   'city': 'North Chicago',\n",
       "   'zip_code': '60064',\n",
       "   'country': 'US',\n",
       "   'state': 'IL',\n",
       "   'display_address': ['2500 Martin Luther King Jr Dr',\n",
       "    'North Chicago, IL 60064']},\n",
       "  'phone': '+12246373471',\n",
       "  'display_phone': '(224) 637-3471',\n",
       "  'distance': 314.50227102185056},\n",
       " {'id': 'wIKSv-kL1MVQWm1bsO1Ufg',\n",
       "  'alias': 'the-silo-lake-bluff',\n",
       "  'name': 'The Silo Restaurant',\n",
       "  'image_url': 'https://s3-media2.fl.yelpcdn.com/bphoto/WFxZkGvR_5XNPsX8ZFqyeg/o.jpg',\n",
       "  'is_closed': False,\n",
       "  'url': 'https://www.yelp.com/biz/the-silo-lake-bluff?adjust_creative=UxOuRlH9oN_SMuVG_RiNhA&utm_campaign=yelp_api_v3&utm_medium=api_v3_business_search&utm_source=UxOuRlH9oN_SMuVG_RiNhA',\n",
       "  'review_count': 552,\n",
       "  'categories': [{'alias': 'pizza', 'title': 'Pizza'},\n",
       "   {'alias': 'bars', 'title': 'Bars'}],\n",
       "  'rating': 4.0,\n",
       "  'coordinates': {'latitude': 42.280318, 'longitude': -87.874765},\n",
       "  'transactions': ['delivery', 'pickup'],\n",
       "  'price': '$$',\n",
       "  'location': {'address1': '625 Rockland Rd',\n",
       "   'address2': '',\n",
       "   'address3': '',\n",
       "   'city': 'Lake Bluff',\n",
       "   'zip_code': '60044',\n",
       "   'country': 'US',\n",
       "   'state': 'IL',\n",
       "   'display_address': ['625 Rockland Rd', 'Lake Bluff, IL 60044']},\n",
       "  'phone': '+18472347456',\n",
       "  'display_phone': '(847) 234-7456',\n",
       "  'distance': 4295.948590601869},\n",
       " {'id': 'R_isoF7061_7MIa1obOlBQ',\n",
       "  'alias': 'inovasi-lake-bluff',\n",
       "  'name': 'Inovasi',\n",
       "  'image_url': 'https://s3-media1.fl.yelpcdn.com/bphoto/gZcZUnxa9hAjU6LGf-s_TQ/o.jpg',\n",
       "  'is_closed': False,\n",
       "  'url': 'https://www.yelp.com/biz/inovasi-lake-bluff?adjust_creative=UxOuRlH9oN_SMuVG_RiNhA&utm_campaign=yelp_api_v3&utm_medium=api_v3_business_search&utm_source=UxOuRlH9oN_SMuVG_RiNhA',\n",
       "  'review_count': 282,\n",
       "  'categories': [{'alias': 'newamerican', 'title': 'American (New)'},\n",
       "   {'alias': 'wine_bars', 'title': 'Wine Bars'},\n",
       "   {'alias': 'sushi', 'title': 'Sushi Bars'}],\n",
       "  'rating': 3.5,\n",
       "  'coordinates': {'latitude': 42.279528, 'longitude': -87.844572},\n",
       "  'transactions': ['delivery', 'pickup'],\n",
       "  'price': '$$$',\n",
       "  'location': {'address1': '28 E Center Ave',\n",
       "   'address2': '',\n",
       "   'address3': '',\n",
       "   'city': 'Lake Bluff',\n",
       "   'zip_code': '60044',\n",
       "   'country': 'US',\n",
       "   'state': 'IL',\n",
       "   'display_address': ['28 E Center Ave', 'Lake Bluff, IL 60044']},\n",
       "  'phone': '+18472951000',\n",
       "  'display_phone': '(847) 295-1000',\n",
       "  'distance': 4407.81217159284},\n",
       " {'id': '5M978_AsNKLPFT3u21AgAA',\n",
       "  'alias': 'browns-chicken-waukegan',\n",
       "  'name': \"Brown's Chicken\",\n",
       "  'image_url': 'https://s3-media2.fl.yelpcdn.com/bphoto/ESVMLOU5oYkuqzl8rVlq6w/o.jpg',\n",
       "  'is_closed': False,\n",
       "  'url': 'https://www.yelp.com/biz/browns-chicken-waukegan?adjust_creative=UxOuRlH9oN_SMuVG_RiNhA&utm_campaign=yelp_api_v3&utm_medium=api_v3_business_search&utm_source=UxOuRlH9oN_SMuVG_RiNhA',\n",
       "  'review_count': 40,\n",
       "  'categories': [{'alias': 'chicken_wings', 'title': 'Chicken Wings'},\n",
       "   {'alias': 'italian', 'title': 'Italian'},\n",
       "   {'alias': 'soulfood', 'title': 'Soul Food'}],\n",
       "  'rating': 3.5,\n",
       "  'coordinates': {'latitude': 42.349395, 'longitude': -87.879966},\n",
       "  'transactions': [],\n",
       "  'price': '$',\n",
       "  'location': {'address1': '3150 Belvedere Rd',\n",
       "   'address2': '',\n",
       "   'address3': '',\n",
       "   'city': 'Waukegan',\n",
       "   'zip_code': '60085',\n",
       "   'country': 'US',\n",
       "   'state': 'IL',\n",
       "   'display_address': ['3150 Belvedere Rd', 'Waukegan, IL 60085']},\n",
       "  'phone': '+18476621820',\n",
       "  'display_phone': '(847) 662-1820',\n",
       "  'distance': 3902.094232516966},\n",
       " {'id': 'nBl3DVObC6RezR2NsH7b4w',\n",
       "  'alias': 'hunan-hibachi-buffet-waukegan',\n",
       "  'name': 'Hunan Hibachi Buffet',\n",
       "  'image_url': 'https://s3-media1.fl.yelpcdn.com/bphoto/r0jPJpTvjs9ShUDVnfKuzA/o.jpg',\n",
       "  'is_closed': False,\n",
       "  'url': 'https://www.yelp.com/biz/hunan-hibachi-buffet-waukegan?adjust_creative=UxOuRlH9oN_SMuVG_RiNhA&utm_campaign=yelp_api_v3&utm_medium=api_v3_business_search&utm_source=UxOuRlH9oN_SMuVG_RiNhA',\n",
       "  'review_count': 94,\n",
       "  'categories': [{'alias': 'japanese', 'title': 'Japanese'},\n",
       "   {'alias': 'buffets', 'title': 'Buffets'},\n",
       "   {'alias': 'chinese', 'title': 'Chinese'}],\n",
       "  'rating': 2.5,\n",
       "  'coordinates': {'latitude': 42.3462905883789,\n",
       "   'longitude': -87.8984069824219},\n",
       "  'transactions': ['delivery', 'pickup'],\n",
       "  'price': '$$',\n",
       "  'location': {'address1': '3900 Northpoint Blvd',\n",
       "   'address2': '',\n",
       "   'address3': '',\n",
       "   'city': 'Waukegan',\n",
       "   'zip_code': '60085',\n",
       "   'country': 'US',\n",
       "   'state': 'IL',\n",
       "   'display_address': ['3900 Northpoint Blvd', 'Waukegan, IL 60085']},\n",
       "  'phone': '+18476889999',\n",
       "  'display_phone': '(847) 688-9999',\n",
       "  'distance': 4512.221314790395},\n",
       " {'id': 'tKF82SeRK08iADyjTa068A',\n",
       "  'alias': 'browns-chicken-waukegan-2',\n",
       "  'name': \"Brown's Chicken\",\n",
       "  'image_url': 'https://s3-media1.fl.yelpcdn.com/bphoto/sMcNs0oaHM7GZtv7LMpVGQ/o.jpg',\n",
       "  'is_closed': False,\n",
       "  'url': 'https://www.yelp.com/biz/browns-chicken-waukegan-2?adjust_creative=UxOuRlH9oN_SMuVG_RiNhA&utm_campaign=yelp_api_v3&utm_medium=api_v3_business_search&utm_source=UxOuRlH9oN_SMuVG_RiNhA',\n",
       "  'review_count': 2,\n",
       "  'categories': [{'alias': 'italian', 'title': 'Italian'},\n",
       "   {'alias': 'chicken_wings', 'title': 'Chicken Wings'}],\n",
       "  'rating': 1.0,\n",
       "  'coordinates': {'latitude': 42.34926, 'longitude': -87.88008},\n",
       "  'transactions': ['delivery'],\n",
       "  'location': {'address1': '3150 Belvidere Rd',\n",
       "   'address2': '',\n",
       "   'address3': None,\n",
       "   'city': 'Waukegan',\n",
       "   'zip_code': '60085',\n",
       "   'country': 'US',\n",
       "   'state': 'IL',\n",
       "   'display_address': ['3150 Belvidere Rd', 'Waukegan, IL 60085']},\n",
       "  'phone': '+18476621820',\n",
       "  'display_phone': '(847) 662-1820',\n",
       "  'distance': 3902.094232516966}]"
      ]
     },
     "execution_count": 18,
     "metadata": {},
     "output_type": "execute_result"
    }
   ],
   "source": [
    "results['businesses']"
   ]
  },
  {
   "cell_type": "code",
   "execution_count": 19,
   "id": "d09456e7-9711-445f-b001-66df15704efe",
   "metadata": {},
   "outputs": [
    {
     "data": {
      "text/html": [
       "<div>\n",
       "<style scoped>\n",
       "    .dataframe tbody tr th:only-of-type {\n",
       "        vertical-align: middle;\n",
       "    }\n",
       "\n",
       "    .dataframe tbody tr th {\n",
       "        vertical-align: top;\n",
       "    }\n",
       "\n",
       "    .dataframe thead th {\n",
       "        text-align: right;\n",
       "    }\n",
       "</style>\n",
       "<table border=\"1\" class=\"dataframe\">\n",
       "  <thead>\n",
       "    <tr style=\"text-align: right;\">\n",
       "      <th></th>\n",
       "      <th>id</th>\n",
       "      <th>alias</th>\n",
       "      <th>name</th>\n",
       "      <th>image_url</th>\n",
       "      <th>is_closed</th>\n",
       "      <th>url</th>\n",
       "      <th>review_count</th>\n",
       "      <th>categories</th>\n",
       "      <th>rating</th>\n",
       "      <th>coordinates</th>\n",
       "      <th>transactions</th>\n",
       "      <th>price</th>\n",
       "      <th>location</th>\n",
       "      <th>phone</th>\n",
       "      <th>display_phone</th>\n",
       "      <th>distance</th>\n",
       "    </tr>\n",
       "  </thead>\n",
       "  <tbody>\n",
       "    <tr>\n",
       "      <th>0</th>\n",
       "      <td>uqCP-Z9dLEaIVLjRZ4kb7A</td>\n",
       "      <td>ostioneria-briza-azul-waukegan</td>\n",
       "      <td>Ostioneria Briza Azul</td>\n",
       "      <td>https://s3-media3.fl.yelpcdn.com/bphoto/djekus...</td>\n",
       "      <td>False</td>\n",
       "      <td>https://www.yelp.com/biz/ostioneria-briza-azul...</td>\n",
       "      <td>28</td>\n",
       "      <td>[{'alias': 'seafood', 'title': 'Seafood'}]</td>\n",
       "      <td>3.5</td>\n",
       "      <td>{'latitude': 42.350855, 'longitude': -87.852107}</td>\n",
       "      <td>[delivery, pickup]</td>\n",
       "      <td>$$</td>\n",
       "      <td>{'address1': '1611 Belvidere Rd', 'address2': ...</td>\n",
       "      <td>+18472445944</td>\n",
       "      <td>(847) 244-5944</td>\n",
       "      <td>3776.470342</td>\n",
       "    </tr>\n",
       "    <tr>\n",
       "      <th>1</th>\n",
       "      <td>5kXCJ5OEutdr7kfeLmgBSQ</td>\n",
       "      <td>eleven19-kitchen-and-cocktails-north-chicago</td>\n",
       "      <td>Eleven19 Kitchen &amp; Cocktails</td>\n",
       "      <td>https://s3-media3.fl.yelpcdn.com/bphoto/hIoYnx...</td>\n",
       "      <td>False</td>\n",
       "      <td>https://www.yelp.com/biz/eleven19-kitchen-and-...</td>\n",
       "      <td>6</td>\n",
       "      <td>[{'alias': 'seafood', 'title': 'Seafood'}, {'a...</td>\n",
       "      <td>4.0</td>\n",
       "      <td>{'latitude': 42.341193853587214, 'longitude': ...</td>\n",
       "      <td>[delivery, pickup]</td>\n",
       "      <td>NaN</td>\n",
       "      <td>{'address1': '1119 10TH ST', 'address2': None,...</td>\n",
       "      <td>+18476724265</td>\n",
       "      <td>(847) 672-4265</td>\n",
       "      <td>2891.625701</td>\n",
       "    </tr>\n",
       "    <tr>\n",
       "      <th>2</th>\n",
       "      <td>SBW7e8uLIOLCp3Fq9RCcRQ</td>\n",
       "      <td>da-local-boy-waukegan</td>\n",
       "      <td>Da Local Boy</td>\n",
       "      <td>https://s3-media3.fl.yelpcdn.com/bphoto/xf-uyN...</td>\n",
       "      <td>False</td>\n",
       "      <td>https://www.yelp.com/biz/da-local-boy-waukegan...</td>\n",
       "      <td>18</td>\n",
       "      <td>[{'alias': 'foodtrucks', 'title': 'Food Trucks...</td>\n",
       "      <td>5.0</td>\n",
       "      <td>{'latitude': 42.353329559078, 'longitude': -87...</td>\n",
       "      <td>[]</td>\n",
       "      <td>NaN</td>\n",
       "      <td>{'address1': None, 'address2': None, 'address3...</td>\n",
       "      <td>+18083593614</td>\n",
       "      <td>(808) 359-3614</td>\n",
       "      <td>4045.471682</td>\n",
       "    </tr>\n",
       "    <tr>\n",
       "      <th>3</th>\n",
       "      <td>dz5MxYb75uD4-EBzA0VS2Q</td>\n",
       "      <td>maevery-public-house-lake-bluff</td>\n",
       "      <td>Maevery Public House</td>\n",
       "      <td>https://s3-media3.fl.yelpcdn.com/bphoto/CSluKk...</td>\n",
       "      <td>False</td>\n",
       "      <td>https://www.yelp.com/biz/maevery-public-house-...</td>\n",
       "      <td>235</td>\n",
       "      <td>[{'alias': 'cocktailbars', 'title': 'Cocktail ...</td>\n",
       "      <td>4.0</td>\n",
       "      <td>{'latitude': 42.279872, 'longitude': -87.8451719}</td>\n",
       "      <td>[delivery]</td>\n",
       "      <td>$$</td>\n",
       "      <td>{'address1': '20 E Scranton Ave', 'address2': ...</td>\n",
       "      <td>+18476043952</td>\n",
       "      <td>(847) 604-3952</td>\n",
       "      <td>4356.148158</td>\n",
       "    </tr>\n",
       "    <tr>\n",
       "      <th>4</th>\n",
       "      <td>8hwBKiiP-u3yOKkA2Gk7dQ</td>\n",
       "      <td>taqueria-toluca-waukegan</td>\n",
       "      <td>Taqueria Toluca</td>\n",
       "      <td>https://s3-media2.fl.yelpcdn.com/bphoto/8y50JE...</td>\n",
       "      <td>False</td>\n",
       "      <td>https://www.yelp.com/biz/taqueria-toluca-wauke...</td>\n",
       "      <td>59</td>\n",
       "      <td>[{'alias': 'mexican', 'title': 'Mexican'}]</td>\n",
       "      <td>4.5</td>\n",
       "      <td>{'latitude': 42.3414349, 'longitude': -87.8416...</td>\n",
       "      <td>[delivery, pickup]</td>\n",
       "      <td>$</td>\n",
       "      <td>{'address1': '822 10th St', 'address2': '', 'a...</td>\n",
       "      <td>+18472447851</td>\n",
       "      <td>(847) 244-7851</td>\n",
       "      <td>3081.812062</td>\n",
       "    </tr>\n",
       "    <tr>\n",
       "      <th>5</th>\n",
       "      <td>rVEI0ZlhOSPvnETtvW49mw</td>\n",
       "      <td>los-altos-mexican-restaurant-north-chicago</td>\n",
       "      <td>Los Altos Mexican Restaurant</td>\n",
       "      <td>https://s3-media1.fl.yelpcdn.com/bphoto/sBuvI9...</td>\n",
       "      <td>False</td>\n",
       "      <td>https://www.yelp.com/biz/los-altos-mexican-res...</td>\n",
       "      <td>7</td>\n",
       "      <td>[{'alias': 'mexican', 'title': 'Mexican'}]</td>\n",
       "      <td>3.0</td>\n",
       "      <td>{'latitude': 42.31968959112019, 'longitude': -...</td>\n",
       "      <td>[delivery, pickup]</td>\n",
       "      <td>NaN</td>\n",
       "      <td>{'address1': '2500 Martin Luther King Jr Dr', ...</td>\n",
       "      <td>+12246373471</td>\n",
       "      <td>(224) 637-3471</td>\n",
       "      <td>314.502271</td>\n",
       "    </tr>\n",
       "    <tr>\n",
       "      <th>6</th>\n",
       "      <td>wIKSv-kL1MVQWm1bsO1Ufg</td>\n",
       "      <td>the-silo-lake-bluff</td>\n",
       "      <td>The Silo Restaurant</td>\n",
       "      <td>https://s3-media2.fl.yelpcdn.com/bphoto/WFxZkG...</td>\n",
       "      <td>False</td>\n",
       "      <td>https://www.yelp.com/biz/the-silo-lake-bluff?a...</td>\n",
       "      <td>552</td>\n",
       "      <td>[{'alias': 'pizza', 'title': 'Pizza'}, {'alias...</td>\n",
       "      <td>4.0</td>\n",
       "      <td>{'latitude': 42.280318, 'longitude': -87.874765}</td>\n",
       "      <td>[delivery, pickup]</td>\n",
       "      <td>$$</td>\n",
       "      <td>{'address1': '625 Rockland Rd', 'address2': ''...</td>\n",
       "      <td>+18472347456</td>\n",
       "      <td>(847) 234-7456</td>\n",
       "      <td>4295.948591</td>\n",
       "    </tr>\n",
       "    <tr>\n",
       "      <th>7</th>\n",
       "      <td>R_isoF7061_7MIa1obOlBQ</td>\n",
       "      <td>inovasi-lake-bluff</td>\n",
       "      <td>Inovasi</td>\n",
       "      <td>https://s3-media1.fl.yelpcdn.com/bphoto/gZcZUn...</td>\n",
       "      <td>False</td>\n",
       "      <td>https://www.yelp.com/biz/inovasi-lake-bluff?ad...</td>\n",
       "      <td>282</td>\n",
       "      <td>[{'alias': 'newamerican', 'title': 'American (...</td>\n",
       "      <td>3.5</td>\n",
       "      <td>{'latitude': 42.279528, 'longitude': -87.844572}</td>\n",
       "      <td>[delivery, pickup]</td>\n",
       "      <td>$$$</td>\n",
       "      <td>{'address1': '28 E Center Ave', 'address2': ''...</td>\n",
       "      <td>+18472951000</td>\n",
       "      <td>(847) 295-1000</td>\n",
       "      <td>4407.812172</td>\n",
       "    </tr>\n",
       "    <tr>\n",
       "      <th>8</th>\n",
       "      <td>5M978_AsNKLPFT3u21AgAA</td>\n",
       "      <td>browns-chicken-waukegan</td>\n",
       "      <td>Brown's Chicken</td>\n",
       "      <td>https://s3-media2.fl.yelpcdn.com/bphoto/ESVMLO...</td>\n",
       "      <td>False</td>\n",
       "      <td>https://www.yelp.com/biz/browns-chicken-waukeg...</td>\n",
       "      <td>40</td>\n",
       "      <td>[{'alias': 'chicken_wings', 'title': 'Chicken ...</td>\n",
       "      <td>3.5</td>\n",
       "      <td>{'latitude': 42.349395, 'longitude': -87.879966}</td>\n",
       "      <td>[]</td>\n",
       "      <td>$</td>\n",
       "      <td>{'address1': '3150 Belvedere Rd', 'address2': ...</td>\n",
       "      <td>+18476621820</td>\n",
       "      <td>(847) 662-1820</td>\n",
       "      <td>3902.094233</td>\n",
       "    </tr>\n",
       "    <tr>\n",
       "      <th>9</th>\n",
       "      <td>nBl3DVObC6RezR2NsH7b4w</td>\n",
       "      <td>hunan-hibachi-buffet-waukegan</td>\n",
       "      <td>Hunan Hibachi Buffet</td>\n",
       "      <td>https://s3-media1.fl.yelpcdn.com/bphoto/r0jPJp...</td>\n",
       "      <td>False</td>\n",
       "      <td>https://www.yelp.com/biz/hunan-hibachi-buffet-...</td>\n",
       "      <td>94</td>\n",
       "      <td>[{'alias': 'japanese', 'title': 'Japanese'}, {...</td>\n",
       "      <td>2.5</td>\n",
       "      <td>{'latitude': 42.3462905883789, 'longitude': -8...</td>\n",
       "      <td>[delivery, pickup]</td>\n",
       "      <td>$$</td>\n",
       "      <td>{'address1': '3900 Northpoint Blvd', 'address2...</td>\n",
       "      <td>+18476889999</td>\n",
       "      <td>(847) 688-9999</td>\n",
       "      <td>4512.221315</td>\n",
       "    </tr>\n",
       "    <tr>\n",
       "      <th>10</th>\n",
       "      <td>tKF82SeRK08iADyjTa068A</td>\n",
       "      <td>browns-chicken-waukegan-2</td>\n",
       "      <td>Brown's Chicken</td>\n",
       "      <td>https://s3-media1.fl.yelpcdn.com/bphoto/sMcNs0...</td>\n",
       "      <td>False</td>\n",
       "      <td>https://www.yelp.com/biz/browns-chicken-waukeg...</td>\n",
       "      <td>2</td>\n",
       "      <td>[{'alias': 'italian', 'title': 'Italian'}, {'a...</td>\n",
       "      <td>1.0</td>\n",
       "      <td>{'latitude': 42.34926, 'longitude': -87.88008}</td>\n",
       "      <td>[delivery]</td>\n",
       "      <td>NaN</td>\n",
       "      <td>{'address1': '3150 Belvidere Rd', 'address2': ...</td>\n",
       "      <td>+18476621820</td>\n",
       "      <td>(847) 662-1820</td>\n",
       "      <td>3902.094233</td>\n",
       "    </tr>\n",
       "  </tbody>\n",
       "</table>\n",
       "</div>"
      ],
      "text/plain": [
       "                        id                                         alias  \\\n",
       "0   uqCP-Z9dLEaIVLjRZ4kb7A                ostioneria-briza-azul-waukegan   \n",
       "1   5kXCJ5OEutdr7kfeLmgBSQ  eleven19-kitchen-and-cocktails-north-chicago   \n",
       "2   SBW7e8uLIOLCp3Fq9RCcRQ                         da-local-boy-waukegan   \n",
       "3   dz5MxYb75uD4-EBzA0VS2Q               maevery-public-house-lake-bluff   \n",
       "4   8hwBKiiP-u3yOKkA2Gk7dQ                      taqueria-toluca-waukegan   \n",
       "5   rVEI0ZlhOSPvnETtvW49mw    los-altos-mexican-restaurant-north-chicago   \n",
       "6   wIKSv-kL1MVQWm1bsO1Ufg                           the-silo-lake-bluff   \n",
       "7   R_isoF7061_7MIa1obOlBQ                            inovasi-lake-bluff   \n",
       "8   5M978_AsNKLPFT3u21AgAA                       browns-chicken-waukegan   \n",
       "9   nBl3DVObC6RezR2NsH7b4w                 hunan-hibachi-buffet-waukegan   \n",
       "10  tKF82SeRK08iADyjTa068A                     browns-chicken-waukegan-2   \n",
       "\n",
       "                            name  \\\n",
       "0          Ostioneria Briza Azul   \n",
       "1   Eleven19 Kitchen & Cocktails   \n",
       "2                   Da Local Boy   \n",
       "3           Maevery Public House   \n",
       "4                Taqueria Toluca   \n",
       "5   Los Altos Mexican Restaurant   \n",
       "6            The Silo Restaurant   \n",
       "7                        Inovasi   \n",
       "8                Brown's Chicken   \n",
       "9           Hunan Hibachi Buffet   \n",
       "10               Brown's Chicken   \n",
       "\n",
       "                                            image_url  is_closed  \\\n",
       "0   https://s3-media3.fl.yelpcdn.com/bphoto/djekus...      False   \n",
       "1   https://s3-media3.fl.yelpcdn.com/bphoto/hIoYnx...      False   \n",
       "2   https://s3-media3.fl.yelpcdn.com/bphoto/xf-uyN...      False   \n",
       "3   https://s3-media3.fl.yelpcdn.com/bphoto/CSluKk...      False   \n",
       "4   https://s3-media2.fl.yelpcdn.com/bphoto/8y50JE...      False   \n",
       "5   https://s3-media1.fl.yelpcdn.com/bphoto/sBuvI9...      False   \n",
       "6   https://s3-media2.fl.yelpcdn.com/bphoto/WFxZkG...      False   \n",
       "7   https://s3-media1.fl.yelpcdn.com/bphoto/gZcZUn...      False   \n",
       "8   https://s3-media2.fl.yelpcdn.com/bphoto/ESVMLO...      False   \n",
       "9   https://s3-media1.fl.yelpcdn.com/bphoto/r0jPJp...      False   \n",
       "10  https://s3-media1.fl.yelpcdn.com/bphoto/sMcNs0...      False   \n",
       "\n",
       "                                                  url  review_count  \\\n",
       "0   https://www.yelp.com/biz/ostioneria-briza-azul...            28   \n",
       "1   https://www.yelp.com/biz/eleven19-kitchen-and-...             6   \n",
       "2   https://www.yelp.com/biz/da-local-boy-waukegan...            18   \n",
       "3   https://www.yelp.com/biz/maevery-public-house-...           235   \n",
       "4   https://www.yelp.com/biz/taqueria-toluca-wauke...            59   \n",
       "5   https://www.yelp.com/biz/los-altos-mexican-res...             7   \n",
       "6   https://www.yelp.com/biz/the-silo-lake-bluff?a...           552   \n",
       "7   https://www.yelp.com/biz/inovasi-lake-bluff?ad...           282   \n",
       "8   https://www.yelp.com/biz/browns-chicken-waukeg...            40   \n",
       "9   https://www.yelp.com/biz/hunan-hibachi-buffet-...            94   \n",
       "10  https://www.yelp.com/biz/browns-chicken-waukeg...             2   \n",
       "\n",
       "                                           categories  rating  \\\n",
       "0          [{'alias': 'seafood', 'title': 'Seafood'}]     3.5   \n",
       "1   [{'alias': 'seafood', 'title': 'Seafood'}, {'a...     4.0   \n",
       "2   [{'alias': 'foodtrucks', 'title': 'Food Trucks...     5.0   \n",
       "3   [{'alias': 'cocktailbars', 'title': 'Cocktail ...     4.0   \n",
       "4          [{'alias': 'mexican', 'title': 'Mexican'}]     4.5   \n",
       "5          [{'alias': 'mexican', 'title': 'Mexican'}]     3.0   \n",
       "6   [{'alias': 'pizza', 'title': 'Pizza'}, {'alias...     4.0   \n",
       "7   [{'alias': 'newamerican', 'title': 'American (...     3.5   \n",
       "8   [{'alias': 'chicken_wings', 'title': 'Chicken ...     3.5   \n",
       "9   [{'alias': 'japanese', 'title': 'Japanese'}, {...     2.5   \n",
       "10  [{'alias': 'italian', 'title': 'Italian'}, {'a...     1.0   \n",
       "\n",
       "                                          coordinates        transactions  \\\n",
       "0    {'latitude': 42.350855, 'longitude': -87.852107}  [delivery, pickup]   \n",
       "1   {'latitude': 42.341193853587214, 'longitude': ...  [delivery, pickup]   \n",
       "2   {'latitude': 42.353329559078, 'longitude': -87...                  []   \n",
       "3   {'latitude': 42.279872, 'longitude': -87.8451719}          [delivery]   \n",
       "4   {'latitude': 42.3414349, 'longitude': -87.8416...  [delivery, pickup]   \n",
       "5   {'latitude': 42.31968959112019, 'longitude': -...  [delivery, pickup]   \n",
       "6    {'latitude': 42.280318, 'longitude': -87.874765}  [delivery, pickup]   \n",
       "7    {'latitude': 42.279528, 'longitude': -87.844572}  [delivery, pickup]   \n",
       "8    {'latitude': 42.349395, 'longitude': -87.879966}                  []   \n",
       "9   {'latitude': 42.3462905883789, 'longitude': -8...  [delivery, pickup]   \n",
       "10     {'latitude': 42.34926, 'longitude': -87.88008}          [delivery]   \n",
       "\n",
       "   price                                           location         phone  \\\n",
       "0     $$  {'address1': '1611 Belvidere Rd', 'address2': ...  +18472445944   \n",
       "1    NaN  {'address1': '1119 10TH ST', 'address2': None,...  +18476724265   \n",
       "2    NaN  {'address1': None, 'address2': None, 'address3...  +18083593614   \n",
       "3     $$  {'address1': '20 E Scranton Ave', 'address2': ...  +18476043952   \n",
       "4      $  {'address1': '822 10th St', 'address2': '', 'a...  +18472447851   \n",
       "5    NaN  {'address1': '2500 Martin Luther King Jr Dr', ...  +12246373471   \n",
       "6     $$  {'address1': '625 Rockland Rd', 'address2': ''...  +18472347456   \n",
       "7    $$$  {'address1': '28 E Center Ave', 'address2': ''...  +18472951000   \n",
       "8      $  {'address1': '3150 Belvedere Rd', 'address2': ...  +18476621820   \n",
       "9     $$  {'address1': '3900 Northpoint Blvd', 'address2...  +18476889999   \n",
       "10   NaN  {'address1': '3150 Belvidere Rd', 'address2': ...  +18476621820   \n",
       "\n",
       "     display_phone     distance  \n",
       "0   (847) 244-5944  3776.470342  \n",
       "1   (847) 672-4265  2891.625701  \n",
       "2   (808) 359-3614  4045.471682  \n",
       "3   (847) 604-3952  4356.148158  \n",
       "4   (847) 244-7851  3081.812062  \n",
       "5   (224) 637-3471   314.502271  \n",
       "6   (847) 234-7456  4295.948591  \n",
       "7   (847) 295-1000  4407.812172  \n",
       "8   (847) 662-1820  3902.094233  \n",
       "9   (847) 688-9999  4512.221315  \n",
       "10  (847) 662-1820  3902.094233  "
      ]
     },
     "execution_count": 19,
     "metadata": {},
     "output_type": "execute_result"
    }
   ],
   "source": [
    "## How many results total?\n",
    "pd.DataFrame(results['businesses'])"
   ]
  },
  {
   "cell_type": "code",
   "execution_count": 20,
   "id": "0f756fa6-0614-49bc-a75b-7d530c54bbff",
   "metadata": {},
   "outputs": [
    {
     "data": {
      "text/plain": [
       "11"
      ]
     },
     "execution_count": 20,
     "metadata": {},
     "output_type": "execute_result"
    }
   ],
   "source": [
    "## How many did we get the details for?\n",
    "results_per_page = len(results['businesses'])\n",
    "results_per_page"
   ]
  },
  {
   "cell_type": "code",
   "execution_count": 21,
   "id": "39a232bc-f132-488f-935b-5baedd3ac467",
   "metadata": {},
   "outputs": [
    {
     "data": {
      "text/plain": [
       "1.0"
      ]
     },
     "execution_count": 21,
     "metadata": {},
     "output_type": "execute_result"
    }
   ],
   "source": [
    "(results['total'])/ results_per_page"
   ]
  },
  {
   "cell_type": "code",
   "execution_count": 22,
   "id": "12d24f7d-5582-4716-96cd-9668439a5681",
   "metadata": {},
   "outputs": [
    {
     "data": {
      "text/plain": [
       "1"
      ]
     },
     "execution_count": 22,
     "metadata": {},
     "output_type": "execute_result"
    }
   ],
   "source": [
    "# Use math.ceil to round up for the total number of pages of results.\n",
    "n_pages = math.ceil((results['total'])/ results_per_page)\n",
    "n_pages"
   ]
  },
  {
   "cell_type": "code",
   "execution_count": 23,
   "id": "8203d6bf-d7c8-4201-8503-70bc5e2d60d2",
   "metadata": {},
   "outputs": [
    {
     "data": {
      "application/vnd.jupyter.widget-view+json": {
       "model_id": "a34b39c8792a4d0d8cf98a5946b4358b",
       "version_major": 2,
       "version_minor": 0
      },
      "text/plain": [
       "  0%|          | 0/1 [00:00<?, ?it/s]"
      ]
     },
     "metadata": {},
     "output_type": "display_data"
    }
   ],
   "source": [
    "for i in tqdm_notebook(range(1,n_pages+1)):\n",
    "    ## The block of code we want to TRY to run\n",
    "    try:\n",
    "        \n",
    "        time.sleep(.2)\n",
    "        \n",
    "        ## Read in results in progress file and check the length\n",
    "        with open(JSON_FILE, 'r') as f:\n",
    "            previous_results = json.load(f)\n",
    "        \n",
    "        ## save number of results to use as offset\n",
    "        n_results = len(previous_results)\n",
    "        \n",
    "        \n",
    "        ## use n_results as the OFFSET \n",
    "        results = yelp.search_query(location = location, term = term,\n",
    "                                   offset = n_results+1)\n",
    "\n",
    "        ## append new results and save to file\n",
    "        previous_results.extend(results['businesses'])\n",
    "        \n",
    "        with open(JSON_FILE, 'w') as f:\n",
    "            json.dump(previous_results, f)\n",
    "\n",
    "            \n",
    "    ## What to do if we get an error/exception.\n",
    "    except Exception as e:\n",
    "        print(' [!] ERROR', e)"
   ]
  },
  {
   "cell_type": "markdown",
   "id": "eb17960c-a0dc-4f03-9308-eaab51dc5d06",
   "metadata": {},
   "source": [
    "## Final Call on JSON Filewith Pandas"
   ]
  },
  {
   "cell_type": "code",
   "execution_count": 24,
   "id": "7a5a8064-723f-47c1-8dcd-9f13ed70080c",
   "metadata": {},
   "outputs": [
    {
     "data": {
      "text/html": [
       "<div>\n",
       "<style scoped>\n",
       "    .dataframe tbody tr th:only-of-type {\n",
       "        vertical-align: middle;\n",
       "    }\n",
       "\n",
       "    .dataframe tbody tr th {\n",
       "        vertical-align: top;\n",
       "    }\n",
       "\n",
       "    .dataframe thead th {\n",
       "        text-align: right;\n",
       "    }\n",
       "</style>\n",
       "<table border=\"1\" class=\"dataframe\">\n",
       "  <thead>\n",
       "    <tr style=\"text-align: right;\">\n",
       "      <th></th>\n",
       "      <th>id</th>\n",
       "      <th>alias</th>\n",
       "      <th>name</th>\n",
       "      <th>image_url</th>\n",
       "      <th>is_closed</th>\n",
       "      <th>url</th>\n",
       "      <th>review_count</th>\n",
       "      <th>categories</th>\n",
       "      <th>rating</th>\n",
       "      <th>coordinates</th>\n",
       "      <th>transactions</th>\n",
       "      <th>location</th>\n",
       "      <th>phone</th>\n",
       "      <th>display_phone</th>\n",
       "      <th>distance</th>\n",
       "      <th>price</th>\n",
       "    </tr>\n",
       "  </thead>\n",
       "  <tbody>\n",
       "    <tr>\n",
       "      <th>0</th>\n",
       "      <td>5kXCJ5OEutdr7kfeLmgBSQ</td>\n",
       "      <td>eleven19-kitchen-and-cocktails-north-chicago</td>\n",
       "      <td>Eleven19 Kitchen &amp; Cocktails</td>\n",
       "      <td>https://s3-media3.fl.yelpcdn.com/bphoto/hIoYnx...</td>\n",
       "      <td>False</td>\n",
       "      <td>https://www.yelp.com/biz/eleven19-kitchen-and-...</td>\n",
       "      <td>6</td>\n",
       "      <td>[{'alias': 'seafood', 'title': 'Seafood'}, {'a...</td>\n",
       "      <td>4.0</td>\n",
       "      <td>{'latitude': 42.341193853587214, 'longitude': ...</td>\n",
       "      <td>[pickup, delivery]</td>\n",
       "      <td>{'address1': '1119 10TH ST', 'address2': None,...</td>\n",
       "      <td>18476724265</td>\n",
       "      <td>(847) 672-4265</td>\n",
       "      <td>2891.625701</td>\n",
       "      <td>NaN</td>\n",
       "    </tr>\n",
       "    <tr>\n",
       "      <th>1</th>\n",
       "      <td>SBW7e8uLIOLCp3Fq9RCcRQ</td>\n",
       "      <td>da-local-boy-waukegan</td>\n",
       "      <td>Da Local Boy</td>\n",
       "      <td>https://s3-media3.fl.yelpcdn.com/bphoto/xf-uyN...</td>\n",
       "      <td>False</td>\n",
       "      <td>https://www.yelp.com/biz/da-local-boy-waukegan...</td>\n",
       "      <td>18</td>\n",
       "      <td>[{'alias': 'foodtrucks', 'title': 'Food Trucks...</td>\n",
       "      <td>5.0</td>\n",
       "      <td>{'latitude': 42.353329559078, 'longitude': -87...</td>\n",
       "      <td>[]</td>\n",
       "      <td>{'address1': None, 'address2': None, 'address3...</td>\n",
       "      <td>18083593614</td>\n",
       "      <td>(808) 359-3614</td>\n",
       "      <td>4045.471682</td>\n",
       "      <td>NaN</td>\n",
       "    </tr>\n",
       "    <tr>\n",
       "      <th>2</th>\n",
       "      <td>dz5MxYb75uD4-EBzA0VS2Q</td>\n",
       "      <td>maevery-public-house-lake-bluff</td>\n",
       "      <td>Maevery Public House</td>\n",
       "      <td>https://s3-media3.fl.yelpcdn.com/bphoto/CSluKk...</td>\n",
       "      <td>False</td>\n",
       "      <td>https://www.yelp.com/biz/maevery-public-house-...</td>\n",
       "      <td>235</td>\n",
       "      <td>[{'alias': 'cocktailbars', 'title': 'Cocktail ...</td>\n",
       "      <td>4.0</td>\n",
       "      <td>{'latitude': 42.279872, 'longitude': -87.8451719}</td>\n",
       "      <td>[delivery]</td>\n",
       "      <td>{'address1': '20 E Scranton Ave', 'address2': ...</td>\n",
       "      <td>18476043952</td>\n",
       "      <td>(847) 604-3952</td>\n",
       "      <td>4356.148158</td>\n",
       "      <td>$$</td>\n",
       "    </tr>\n",
       "    <tr>\n",
       "      <th>3</th>\n",
       "      <td>8hwBKiiP-u3yOKkA2Gk7dQ</td>\n",
       "      <td>taqueria-toluca-waukegan</td>\n",
       "      <td>Taqueria Toluca</td>\n",
       "      <td>https://s3-media2.fl.yelpcdn.com/bphoto/8y50JE...</td>\n",
       "      <td>False</td>\n",
       "      <td>https://www.yelp.com/biz/taqueria-toluca-wauke...</td>\n",
       "      <td>59</td>\n",
       "      <td>[{'alias': 'mexican', 'title': 'Mexican'}]</td>\n",
       "      <td>4.5</td>\n",
       "      <td>{'latitude': 42.3414349, 'longitude': -87.8416...</td>\n",
       "      <td>[pickup, delivery]</td>\n",
       "      <td>{'address1': '822 10th St', 'address2': '', 'a...</td>\n",
       "      <td>18472447851</td>\n",
       "      <td>(847) 244-7851</td>\n",
       "      <td>3081.812062</td>\n",
       "      <td>$</td>\n",
       "    </tr>\n",
       "    <tr>\n",
       "      <th>4</th>\n",
       "      <td>rVEI0ZlhOSPvnETtvW49mw</td>\n",
       "      <td>los-altos-mexican-restaurant-north-chicago</td>\n",
       "      <td>Los Altos Mexican Restaurant</td>\n",
       "      <td>https://s3-media1.fl.yelpcdn.com/bphoto/sBuvI9...</td>\n",
       "      <td>False</td>\n",
       "      <td>https://www.yelp.com/biz/los-altos-mexican-res...</td>\n",
       "      <td>7</td>\n",
       "      <td>[{'alias': 'mexican', 'title': 'Mexican'}]</td>\n",
       "      <td>3.0</td>\n",
       "      <td>{'latitude': 42.31968959112019, 'longitude': -...</td>\n",
       "      <td>[pickup, delivery]</td>\n",
       "      <td>{'address1': '2500 Martin Luther King Jr Dr', ...</td>\n",
       "      <td>12246373471</td>\n",
       "      <td>(224) 637-3471</td>\n",
       "      <td>314.502271</td>\n",
       "      <td>NaN</td>\n",
       "    </tr>\n",
       "  </tbody>\n",
       "</table>\n",
       "</div>"
      ],
      "text/plain": [
       "                       id                                         alias  \\\n",
       "0  5kXCJ5OEutdr7kfeLmgBSQ  eleven19-kitchen-and-cocktails-north-chicago   \n",
       "1  SBW7e8uLIOLCp3Fq9RCcRQ                         da-local-boy-waukegan   \n",
       "2  dz5MxYb75uD4-EBzA0VS2Q               maevery-public-house-lake-bluff   \n",
       "3  8hwBKiiP-u3yOKkA2Gk7dQ                      taqueria-toluca-waukegan   \n",
       "4  rVEI0ZlhOSPvnETtvW49mw    los-altos-mexican-restaurant-north-chicago   \n",
       "\n",
       "                           name  \\\n",
       "0  Eleven19 Kitchen & Cocktails   \n",
       "1                  Da Local Boy   \n",
       "2          Maevery Public House   \n",
       "3               Taqueria Toluca   \n",
       "4  Los Altos Mexican Restaurant   \n",
       "\n",
       "                                           image_url  is_closed  \\\n",
       "0  https://s3-media3.fl.yelpcdn.com/bphoto/hIoYnx...      False   \n",
       "1  https://s3-media3.fl.yelpcdn.com/bphoto/xf-uyN...      False   \n",
       "2  https://s3-media3.fl.yelpcdn.com/bphoto/CSluKk...      False   \n",
       "3  https://s3-media2.fl.yelpcdn.com/bphoto/8y50JE...      False   \n",
       "4  https://s3-media1.fl.yelpcdn.com/bphoto/sBuvI9...      False   \n",
       "\n",
       "                                                 url  review_count  \\\n",
       "0  https://www.yelp.com/biz/eleven19-kitchen-and-...             6   \n",
       "1  https://www.yelp.com/biz/da-local-boy-waukegan...            18   \n",
       "2  https://www.yelp.com/biz/maevery-public-house-...           235   \n",
       "3  https://www.yelp.com/biz/taqueria-toluca-wauke...            59   \n",
       "4  https://www.yelp.com/biz/los-altos-mexican-res...             7   \n",
       "\n",
       "                                          categories  rating  \\\n",
       "0  [{'alias': 'seafood', 'title': 'Seafood'}, {'a...     4.0   \n",
       "1  [{'alias': 'foodtrucks', 'title': 'Food Trucks...     5.0   \n",
       "2  [{'alias': 'cocktailbars', 'title': 'Cocktail ...     4.0   \n",
       "3         [{'alias': 'mexican', 'title': 'Mexican'}]     4.5   \n",
       "4         [{'alias': 'mexican', 'title': 'Mexican'}]     3.0   \n",
       "\n",
       "                                         coordinates        transactions  \\\n",
       "0  {'latitude': 42.341193853587214, 'longitude': ...  [pickup, delivery]   \n",
       "1  {'latitude': 42.353329559078, 'longitude': -87...                  []   \n",
       "2  {'latitude': 42.279872, 'longitude': -87.8451719}          [delivery]   \n",
       "3  {'latitude': 42.3414349, 'longitude': -87.8416...  [pickup, delivery]   \n",
       "4  {'latitude': 42.31968959112019, 'longitude': -...  [pickup, delivery]   \n",
       "\n",
       "                                            location        phone  \\\n",
       "0  {'address1': '1119 10TH ST', 'address2': None,...  18476724265   \n",
       "1  {'address1': None, 'address2': None, 'address3...  18083593614   \n",
       "2  {'address1': '20 E Scranton Ave', 'address2': ...  18476043952   \n",
       "3  {'address1': '822 10th St', 'address2': '', 'a...  18472447851   \n",
       "4  {'address1': '2500 Martin Luther King Jr Dr', ...  12246373471   \n",
       "\n",
       "    display_phone     distance price  \n",
       "0  (847) 672-4265  2891.625701   NaN  \n",
       "1  (808) 359-3614  4045.471682   NaN  \n",
       "2  (847) 604-3952  4356.148158    $$  \n",
       "3  (847) 244-7851  3081.812062     $  \n",
       "4  (224) 637-3471   314.502271   NaN  "
      ]
     },
     "execution_count": 24,
     "metadata": {},
     "output_type": "execute_result"
    }
   ],
   "source": [
    "df = pd.read_json(JSON_FILE)\n",
    "df.head()"
   ]
  },
  {
   "cell_type": "code",
   "execution_count": 25,
   "id": "87eea5c8-f543-4ef1-8e6a-89f1f97d5ba2",
   "metadata": {},
   "outputs": [
    {
     "name": "stdout",
     "output_type": "stream",
     "text": [
      "<class 'pandas.core.frame.DataFrame'>\n",
      "RangeIndex: 10 entries, 0 to 9\n",
      "Data columns (total 16 columns):\n",
      " #   Column         Non-Null Count  Dtype  \n",
      "---  ------         --------------  -----  \n",
      " 0   id             10 non-null     object \n",
      " 1   alias          10 non-null     object \n",
      " 2   name           10 non-null     object \n",
      " 3   image_url      10 non-null     object \n",
      " 4   is_closed      10 non-null     bool   \n",
      " 5   url            10 non-null     object \n",
      " 6   review_count   10 non-null     int64  \n",
      " 7   categories     10 non-null     object \n",
      " 8   rating         10 non-null     float64\n",
      " 9   coordinates    10 non-null     object \n",
      " 10  transactions   10 non-null     object \n",
      " 11  location       10 non-null     object \n",
      " 12  phone          10 non-null     int64  \n",
      " 13  display_phone  10 non-null     object \n",
      " 14  distance       10 non-null     float64\n",
      " 15  price          6 non-null      object \n",
      "dtypes: bool(1), float64(2), int64(2), object(11)\n",
      "memory usage: 1.3+ KB\n"
     ]
    }
   ],
   "source": [
    "df.info()"
   ]
  },
  {
   "cell_type": "markdown",
   "id": "aa25c356-1679-48f5-9d5f-adf4d96b1344",
   "metadata": {},
   "source": [
    "## Convert file and save new dataframe"
   ]
  },
  {
   "cell_type": "code",
   "execution_count": 26,
   "id": "c3e7595a-b7d4-482a-a3a6-a3a18adf4510",
   "metadata": {},
   "outputs": [
    {
     "data": {
      "text/plain": [
       "'Data/Chicago-seafood.csv.gz'"
      ]
     },
     "execution_count": 26,
     "metadata": {},
     "output_type": "execute_result"
    }
   ],
   "source": [
    "## convert the filename to a .csv.gz\n",
    "csv_file = JSON_FILE.replace('.json','.csv.gz')\n",
    "csv_file"
   ]
  },
  {
   "cell_type": "code",
   "execution_count": 27,
   "id": "ca6c9e6f-e3e4-46c9-9e66-22345a269375",
   "metadata": {},
   "outputs": [],
   "source": [
    "## Save it as a compressed csv (to save space)\n",
    "df.to_csv(csv_file, compression = 'gzip', index = False)"
   ]
  }
 ],
 "metadata": {
  "kernelspec": {
   "display_name": "Python 3 (ipykernel)",
   "language": "python",
   "name": "python3"
  },
  "language_info": {
   "codemirror_mode": {
    "name": "ipython",
    "version": 3
   },
   "file_extension": ".py",
   "mimetype": "text/x-python",
   "name": "python",
   "nbconvert_exporter": "python",
   "pygments_lexer": "ipython3",
   "version": "3.10.10"
  },
  "widgets": {
   "application/vnd.jupyter.widget-state+json": {
    "state": {
     "2c92fd09209d42628f0cbfcbddbf0e6a": {
      "model_module": "@jupyter-widgets/controls",
      "model_module_version": "2.0.0",
      "model_name": "FloatProgressModel",
      "state": {
       "bar_style": "success",
       "layout": "IPY_MODEL_6e5fff7d581f45b8b42b2fe938856233",
       "max": 1,
       "style": "IPY_MODEL_9fab88327a5b4d0f93ca8218de403246",
       "value": 1
      }
     },
     "6d2dcf74928a44068c2c02e39802075e": {
      "model_module": "@jupyter-widgets/base",
      "model_module_version": "2.0.0",
      "model_name": "LayoutModel",
      "state": {}
     },
     "6e5fff7d581f45b8b42b2fe938856233": {
      "model_module": "@jupyter-widgets/base",
      "model_module_version": "2.0.0",
      "model_name": "LayoutModel",
      "state": {}
     },
     "705effca41a84463ad184c67466f6863": {
      "model_module": "@jupyter-widgets/controls",
      "model_module_version": "2.0.0",
      "model_name": "HTMLStyleModel",
      "state": {
       "description_width": "",
       "font_size": null,
       "text_color": null
      }
     },
     "94577529af814874ab9fd3c2e8b411ca": {
      "model_module": "@jupyter-widgets/controls",
      "model_module_version": "2.0.0",
      "model_name": "HTMLModel",
      "state": {
       "layout": "IPY_MODEL_c5a01d29c6b2454a8b5875479972b56e",
       "style": "IPY_MODEL_705effca41a84463ad184c67466f6863",
       "value": "100%"
      }
     },
     "9fab88327a5b4d0f93ca8218de403246": {
      "model_module": "@jupyter-widgets/controls",
      "model_module_version": "2.0.0",
      "model_name": "ProgressStyleModel",
      "state": {
       "description_width": ""
      }
     },
     "a34b39c8792a4d0d8cf98a5946b4358b": {
      "model_module": "@jupyter-widgets/controls",
      "model_module_version": "2.0.0",
      "model_name": "HBoxModel",
      "state": {
       "children": [
        "IPY_MODEL_94577529af814874ab9fd3c2e8b411ca",
        "IPY_MODEL_2c92fd09209d42628f0cbfcbddbf0e6a",
        "IPY_MODEL_ad6529d298a7451f82760af063bc60f3"
       ],
       "layout": "IPY_MODEL_d87e59e2586c4a588a34ff96ceb9d875"
      }
     },
     "ad6529d298a7451f82760af063bc60f3": {
      "model_module": "@jupyter-widgets/controls",
      "model_module_version": "2.0.0",
      "model_name": "HTMLModel",
      "state": {
       "layout": "IPY_MODEL_6d2dcf74928a44068c2c02e39802075e",
       "style": "IPY_MODEL_f5538c34a6c34bbe8402e40a6945b405",
       "value": " 1/1 [00:00&lt;00:00,  1.80it/s]"
      }
     },
     "c5a01d29c6b2454a8b5875479972b56e": {
      "model_module": "@jupyter-widgets/base",
      "model_module_version": "2.0.0",
      "model_name": "LayoutModel",
      "state": {}
     },
     "d87e59e2586c4a588a34ff96ceb9d875": {
      "model_module": "@jupyter-widgets/base",
      "model_module_version": "2.0.0",
      "model_name": "LayoutModel",
      "state": {}
     },
     "f5538c34a6c34bbe8402e40a6945b405": {
      "model_module": "@jupyter-widgets/controls",
      "model_module_version": "2.0.0",
      "model_name": "HTMLStyleModel",
      "state": {
       "description_width": "",
       "font_size": null,
       "text_color": null
      }
     }
    },
    "version_major": 2,
    "version_minor": 0
   }
  }
 },
 "nbformat": 4,
 "nbformat_minor": 5
}
